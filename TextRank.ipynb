{
  "nbformat": 4,
  "nbformat_minor": 0,
  "metadata": {
    "colab": {
      "provenance": []
    },
    "kernelspec": {
      "name": "python3",
      "display_name": "Python 3"
    },
    "language_info": {
      "name": "python"
    }
  },
  "cells": [
    {
      "cell_type": "code",
      "execution_count": null,
      "metadata": {
        "id": "rNh4jyGXtE2m"
      },
      "outputs": [],
      "source": [
        "import nltk\n",
        "import numpy as np\n",
        "from nltk.tokenize import sent_tokenize, RegexpTokenizer\n",
        "from nltk.corpus import stopwords\n",
        "from nltk.stem import WordNetLemmatizer\n",
        "\n",
        "class TextRankSummarizer:\n",
        "    def __init__(self):\n",
        "        self.vocab = None\n",
        "        self.word_index = None\n",
        "        self.graph = None\n",
        "        self.scores = None\n",
        "        self.stopwords = None\n",
        "        self.tokenizer = RegexpTokenizer(r'\\w+')\n",
        "        self.lemmatizer = WordNetLemmatizer()\n",
        "\n",
        "    def fit(self, text):\n",
        "        # Preprocessing\n",
        "        self.stopwords = set(stopwords.words('english'))\n",
        "        words = [self.lemmatizer.lemmatize(word.lower()) for word in self.tokenizer.tokenize(text) if word.lower() not in self.stopwords]\n",
        "\n",
        "        # Build vocabulary and word index\n",
        "        self.vocab = sorted(list(set(words)))\n",
        "        self.word_index = {word: i for i, word in enumerate(self.vocab)}\n",
        "\n",
        "        # Create the adjacency matrix\n",
        "        n = len(self.vocab)\n",
        "        self.graph = np.zeros((n, n))\n",
        "        for sentence in sent_tokenize(text):\n",
        "            words = [self.lemmatizer.lemmatize(word.lower()) for word in self.tokenizer.tokenize(sentence) if word.lower() not in self.stopwords]\n",
        "            for i, word1 in enumerate(words):\n",
        "                if word1 in self.vocab:\n",
        "                    for j, word2 in enumerate(words):\n",
        "                        if i != j and word2 in self.vocab:\n",
        "                            self.graph[self.word_index[word1], self.word_index[word2]] += 1\n",
        "\n",
        "        # Normalize the adjacency matrix\n",
        "        degrees = self.graph.sum(axis=0)\n",
        "        self.graph = np.divide(self.graph, degrees, where=degrees!=0)\n",
        "\n",
        "        # Calculate the PageRank scores iteratively until convergence\n",
        "        damping_factor = 0.85\n",
        "        self.scores = np.ones(n) / n\n",
        "        while True:\n",
        "            new_scores = (1 - damping_factor) / n + damping_factor * self.graph.dot(self.scores)\n",
        "            if np.linalg.norm(self.scores - new_scores) < 1e-5:\n",
        "                break\n",
        "            self.scores = new_scores\n",
        "\n",
        "    def transform(self, text, n):\n",
        "        # Calculate sentence scores based on the average of the word scores in each sentence\n",
        "        sentence_scores = np.zeros(len(sent_tokenize(text)))\n",
        "        for i, sentence in enumerate(sent_tokenize(text)):\n",
        "            words = [self.lemmatizer.lemmatize(word.lower()) for word in self.tokenizer.tokenize(sentence) if word.lower() not in self.stopwords]\n",
        "            indices = [self.word_index[word] for word in words if word in self.word_index]\n",
        "            if len(indices) > 0:\n",
        "                sentence_scores[i] = self.scores[indices].mean()\n",
        "\n",
        "        # Get the top n sentences\n",
        "        top_indices = sentence_scores.argsort()[-n:]\n",
        "        top_indices.sort()\n",
        "        summary = ' '.join([sent_tokenize(text)[i] for i in top_indices])\n",
        "        return summary\n"
      ]
    },
    {
      "cell_type": "code",
      "source": [
        "# Import the TextRankSummarizer class\n",
        "#from textrank import TextRankSummarizer\n",
        "\n",
        "# Create a TextRankSummarizer object\n",
        "summarizer = TextRankSummarizer()\n",
        "nltk.download('punkt')\n",
        "nltk.download('stopwords')\n",
        "nltk.download('wordnet')\n",
        "# Fit the TextRankSummarizer object to a piece of text\n",
        "text = '''Steven Spielberg sent a letter to express his enjoyment of the Netflix show Mo, making its lead star emotional. \n",
        "Premiering in August of last year, the single-camera comedy centers around Mohammed Amer as a fictionalized version of himself. \n",
        "The actor and comedian portrays Mo Najjar, a Palestinian refugee who constantly seems just one step away from obtaining asylum in the U.S. \n",
        "Najjar lives with his family in Houston, Texas, and, \\\n",
        "across eight episodes, Najjar hilariously adjusts to wild circumstances even as he faces some very specific struggles.\n",
        "In a conversation with Entertainment Weekly, Amer discussed the series and reflected on his past interactions with Spielberg. \n",
        "In the quote below, Amer talks about sitting across from the legendary director and gets emotional while recalling Spielberg's support.\n",
        " Amer specifically mentions that the Jurassic Park helmer sent him a letter to express his enjoyment of Mo, which has been renewed for season 2:\n",
        "Getting honored by the American Film Institute was the first—like, whoa. You think… to be sitting across James Cameron and Spielberg, that was just crazy to me. \n",
        "And I was sitting there talking to [Slovan] “Slick” [Naim], our director. I think we were sitting there and he’s—because nobody’s ever filmed a show in Houston. \n",
        "They were, like, literally trying to talk him into filming in their barber shop and then a year later we’re sitting there getting a letter from Spielberg about how much he enjoyed the show.\n",
        "It just brings tears to your eyes. Like, literally, it just makes it all so worth it. \n",
        "All that pain and all that struggle to get the show off the ground, and of course, to get a Peabody nomination is huge. \n",
        "I’m very, very excited about it and honored, of course, and just tip my hat to the entire production team. Everybody’s efforts were the reason why we ended up getting this nomination.\n",
        "Just as Amer mentions in his comments, Mo has racked up several accolades and nominations.\n",
        " The series has a perfect score on Rotten Tomatoes and it also won the Gotham Award for Breakthrough Series. \n",
        " Mo was also named TV Program of the Year at this year's AFI Awards, while also being nominated by the Film Independent Spirit Awards and the Peabody Awards.\n",
        "digitalmarketinginstitute.com/us/courses\n",
        "The series, which also stars Farah Bsieso, Omar Elba, Teresa Ruiz, and Tobe Nwigwe, is praised on the basis of its diversity and the respective it highlights. \n",
        "The show brings focus to the life of a Palestinian refugee, something that's rarely seen in the media. But it's also important to note that Mo is genuinely entertaining as well. \n",
        "While a lot of half-hour programs on streaming lean more toward drama, the writing team knows to keep humor at the center of the narrative in spectacular ways.\n",
        "\n",
        "'''\n",
        "summarizer.fit(text)\n",
        "\n",
        "# Get a summary of the text\n",
        "summary = summarizer.transform(text, n=2)\n",
        "\n"
      ],
      "metadata": {
        "colab": {
          "base_uri": "https://localhost:8080/"
        },
        "id": "amjQCEnLtLpF",
        "outputId": "429252e7-7fd6-492a-8501-54585d957051"
      },
      "execution_count": null,
      "outputs": [
        {
          "output_type": "stream",
          "name": "stderr",
          "text": [
            "[nltk_data] Downloading package punkt to /root/nltk_data...\n",
            "[nltk_data]   Package punkt is already up-to-date!\n",
            "[nltk_data] Downloading package stopwords to /root/nltk_data...\n",
            "[nltk_data]   Package stopwords is already up-to-date!\n",
            "[nltk_data] Downloading package wordnet to /root/nltk_data...\n",
            "[nltk_data]   Package wordnet is already up-to-date!\n"
          ]
        }
      ]
    },
    {
      "cell_type": "code",
      "source": [
        "print(summary)"
      ],
      "metadata": {
        "colab": {
          "base_uri": "https://localhost:8080/"
        },
        "id": "VrvU2cwDwEym",
        "outputId": "b421ed1c-64fb-4832-fe9d-f771e6dc2e11"
      },
      "execution_count": null,
      "outputs": [
        {
          "output_type": "stream",
          "name": "stdout",
          "text": [
            "Steven Spielberg sent a letter to express his enjoyment of the Netflix show Mo, making its lead star emotional. Mo was also named TV Program of the Year at this year's AFI Awards, while also being nominated by the Film Independent Spirit Awards and the Peabody Awards.\n"
          ]
        }
      ]
    },
    {
      "cell_type": "code",
      "source": [
        "def visualize_summary(article, summary, color='yellow', alignment='center'):\n",
        "    # Find the starting and ending indices of the summary in the article\n",
        "    start_index = article.find(summary)\n",
        "    end_index = start_index + len(summary)\n",
        "\n",
        "    # Generate the highlighted article using ANSI escape codes\n",
        "    if color == 'yellow':\n",
        "        color_code = '\\033[43m'  # ANSI escape code for yellow background\n",
        "    else:\n",
        "        color_code = '\\033[0m'  # No color\n",
        "    highlighted_article = article[:start_index] + color_code + '\\033[1m' + summary + '\\033[0m' + article[end_index:]\n",
        "\n",
        "    # Print the highlighted article with alignment\n",
        "    if alignment == 'left':\n",
        "        print('\\n\\033[1mOriginal-Text:\\033[0m\\n',highlighted_article)\n",
        "    elif alignment == 'center':\n",
        "        print('\\n\\033[1mOriginal-Text:\\033[0m\\n',highlighted_article.center(80))\n",
        "    elif alignment == 'right':\n",
        "        print('\\n\\033[1mOriginal-Text:\\033[0m\\n',highlighted_article.rjust(80))\n",
        "    else:\n",
        "        print('\\n\\033[1mOriginal-Text:\\033[0m\\n', highlighted_article)\n",
        "\n",
        "# Example usage\n",
        "summary = summarizer.transform(text, n=3)\n",
        "visualize_summary(text, summary, color='yellow', alignment='center')\n",
        "print('\\n\\033[1mSummary:\\033[0m\\n', summary)"
      ],
      "metadata": {
        "id": "9bMWb-dpwIoe",
        "colab": {
          "base_uri": "https://localhost:8080/"
        },
        "outputId": "1fcbe82e-dafe-4e2a-b37d-637336cb788b"
      },
      "execution_count": null,
      "outputs": [
        {
          "output_type": "stream",
          "name": "stdout",
          "text": [
            "\n",
            "\u001b[1mOriginal-Text:\u001b[0m\n",
            " Steven Spielberg sent a letter to express his enjoyment of the Netflix show Mo, making its lead star emotional. \n",
            "Premiering in August of last year, the single-camera comedy centers around Mohammed Amer as a fictionalized version of himself. \n",
            "The actor and comedian portrays Mo Najjar, a Palestinian refugee who constantly seems just one step away from obtaining asylum in the U.S. \n",
            "Najjar lives with his family in Houston, Texas, and, across eight episodes, Najjar hilariously adjusts to wild circumstances even as he faces some very specific struggles.\n",
            "In a conversation with Entertainment Weekly, Amer discussed the series and reflected on his past interactions with Spielberg. \n",
            "In the quote below, Amer talks about sitting across from the legendary director and gets emotional while recalling Spielberg's support.\n",
            " Amer specifically mentions that the Jurassic Park helmer sent him a letter to express his enjoyment of Mo, which has been renewed for season 2:\n",
            "Getting honored by the American Film Institute was the first—like, whoa. You think… to be sitting across James Cameron and Spielberg, that was just crazy to me. \n",
            "And I was sitting there talking to [Slovan] “Slick” [Naim], our director. I think we were sitting there and he’s—because nobody’s ever filmed a show in Houston. \n",
            "They were, like, literally trying to talk him into filming in their barber shop and then a year later we’re sitting there getting a letter from Spielberg about how much he enjoyed the show.\n",
            "It just brings tears to your eyes. Like, literally, it just makes it all so worth it. \n",
            "All that pain and all that struggle to get the show off the ground, and of course, to get a Peabody nomination is huge. \n",
            "I’m very, very excited about it and honored, of course, and just tip my hat to the entire production team. Everybody’s efforts were the reason why we ended up getting this nomination.\n",
            "Just as Amer mentions in his comments, Mo has racked up several accolades and nominations.\n",
            " The series has a perfect score on Rotten Tomatoes and it also won the Gotham Award for Breakthrough Series. \n",
            " Mo was also named TV Program of the Year at this year's AFI Awards, while also being nominated by the Film Independent Spirit Awards and the Peabody Awards.\n",
            "digitalmarketinginstitute.com/us/courses\n",
            "The series, which also stars Farah Bsieso, Omar Elba, Teresa Ruiz, and Tobe Nwigwe, is praised on the basis of its diversity and the respective it highlights. \n",
            "The show brings focus to the life of a Palestinian refugee, something that's rarely seen in the media. But it's also important to note that Mo is genuinely entertaining as well. \n",
            "While a lot of half-hour programs on streaming lean more toward drama, the writing team knows to keep humor at the center of the narrative in spectacular ways.\n",
            "\u001b[43m\u001b[1mSteven Spielberg sent a letter to express his enjoyment of the Netflix show Mo, making its lead star emotional. They were, like, literally trying to talk him into filming in their barber shop and then a year later we’re sitting there getting a letter from Spielberg about how much he enjoyed the show. Mo was also named TV Program of the Year at this year's AFI Awards, while also being nominated by the Film Independent Spirit Awards and the Peabody Awards.\u001b[0m Najjar hilariously adjusts to wild circumstances even as he faces some very specific struggles.\n",
            "In a conversation with Entertainment Weekly, Amer discussed the series and reflected on his past interactions with Spielberg. \n",
            "In the quote below, Amer talks about sitting across from the legendary director and gets emotional while recalling Spielberg's support.\n",
            " Amer specifically mentions that the Jurassic Park helmer sent him a letter to express his enjoyment of Mo, which has been renewed for season 2:\n",
            "Getting honored by the American Film Institute was the first—like, whoa. You think… to be sitting across James Cameron and Spielberg, that was just crazy to me. \n",
            "And I was sitting there talking to [Slovan] “Slick” [Naim], our director. I think we were sitting there and he’s—because nobody’s ever filmed a show in Houston. \n",
            "They were, like, literally trying to talk him into filming in their barber shop and then a year later we’re sitting there getting a letter from Spielberg about how much he enjoyed the show.\n",
            "It just brings tears to your eyes. Like, literally, it just makes it all so worth it. \n",
            "All that pain and all that struggle to get the show off the ground, and of course, to get a Peabody nomination is huge. \n",
            "I’m very, very excited about it and honored, of course, and just tip my hat to the entire production team. Everybody’s efforts were the reason why we ended up getting this nomination.\n",
            "Just as Amer mentions in his comments, Mo has racked up several accolades and nominations.\n",
            " The series has a perfect score on Rotten Tomatoes and it also won the Gotham Award for Breakthrough Series. \n",
            " Mo was also named TV Program of the Year at this year's AFI Awards, while also being nominated by the Film Independent Spirit Awards and the Peabody Awards.\n",
            "digitalmarketinginstitute.com/us/courses\n",
            "The series, which also stars Farah Bsieso, Omar Elba, Teresa Ruiz, and Tobe Nwigwe, is praised on the basis of its diversity and the respective it highlights. \n",
            "The show brings focus to the life of a Palestinian refugee, something that's rarely seen in the media. But it's also important to note that Mo is genuinely entertaining as well. \n",
            "While a lot of half-hour programs on streaming lean more toward drama, the writing team knows to keep humor at the center of the narrative in spectacular ways.\n",
            "\n",
            "\n",
            "\n",
            "\u001b[1mSummary:\u001b[0m\n",
            " Steven Spielberg sent a letter to express his enjoyment of the Netflix show Mo, making its lead star emotional. They were, like, literally trying to talk him into filming in their barber shop and then a year later we’re sitting there getting a letter from Spielberg about how much he enjoyed the show. Mo was also named TV Program of the Year at this year's AFI Awards, while also being nominated by the Film Independent Spirit Awards and the Peabody Awards.\n"
          ]
        }
      ]
    },
    {
      "cell_type": "code",
      "source": [
        "from collections import Counter\n",
        "\n",
        "def get_ngrams(text, n):\n",
        "    \"\"\"Extracts n-grams from a text\"\"\"\n",
        "    return Counter(zip(*[text[i:] for i in range(n)]))\n",
        "\n",
        "def calculate_rouge(text1, text2, n):\n",
        "    \"\"\"Calculates ROUGE score between two texts for a given n-gram length\"\"\"\n",
        "    ngrams1 = get_ngrams(text1, n)\n",
        "    ngrams2 = get_ngrams(text2, n)\n",
        "    overlap = sum((ngrams1 & ngrams2).values())\n",
        "    rouge = overlap / len(ngrams1) if len(ngrams1) > 0 else 0.0\n",
        "    return rouge\n",
        "\n",
        "# Example usage\n",
        "reference = text\n",
        "generated = summary\n",
        "rouge_1_score = calculate_rouge(reference, generated, 1)\n",
        "rouge_2_score = calculate_rouge(reference, generated, 2)\n",
        "rouge_3_score = calculate_rouge(reference, generated, 3)\n",
        "rouge_4_score = calculate_rouge(reference, generated, 4)\n",
        "print(\"ROUGE-1 score:\", rouge_1_score)\n",
        "print(\"ROUGE-2 score:\", rouge_2_score)\n",
        "print(\"ROUGE-3 score:\", rouge_3_score)\n",
        "print(\"ROUGE-4 score:\", rouge_4_score)\n"
      ],
      "metadata": {
        "colab": {
          "base_uri": "https://localhost:8080/"
        },
        "id": "NGN_pjXD1iSE",
        "outputId": "19435208-9319-4d15-d2ad-b16af7542832"
      },
      "execution_count": null,
      "outputs": [
        {
          "output_type": "stream",
          "name": "stdout",
          "text": [
            "ROUGE-1 score: 7.26984126984127\n",
            "ROUGE-2 score: 1.04337899543379\n",
            "ROUGE-3 score: 0.3647342995169082\n",
            "ROUGE-4 score: 0.24337479718766902\n"
          ]
        }
      ]
    },
    {
      "cell_type": "code",
      "source": [
        "import matplotlib.pyplot as plt\n",
        "\n",
        "# Calculate the ROUGE scores for each generated summary\n",
        "rouge_1_score = calculate_rouge(reference, generated, 1)\n",
        "rouge_2_score = calculate_rouge(reference, generated, 2)\n",
        "rouge_3_score = calculate_rouge(reference, generated, 3)\n",
        "rouge_4_score = calculate_rouge(reference, generated, 4)\n",
        "\n",
        "# Create a list of the ROUGE scores and their corresponding n-gram lengths\n",
        "rouge_scores = [rouge_1_score, rouge_2_score, rouge_3_score, rouge_4_score]\n",
        "n_gram_lengths = [1, 2, 3, 4]\n",
        "\n",
        "# Create a list of the ROUGE scores and their corresponding n-gram lengths\n",
        "rouge_scores = [rouge_1_score, rouge_2_score, rouge_3_score, rouge_4_score]\n",
        "n_gram_lengths = [1, 2, 3, 4]\n",
        "\n",
        "# Plot the ROUGE scores as a bar plot\n",
        "plt.bar(n_gram_lengths, rouge_scores)\n",
        "plt.xlabel(\"n-gram Length\")\n",
        "plt.ylabel(\"ROUGE Score\")\n",
        "plt.title(\"ROUGE Scores for Text Rank Algorithm\")\n",
        "plt.show()\n"
      ],
      "metadata": {
        "colab": {
          "base_uri": "https://localhost:8080/",
          "height": 472
        },
        "id": "GPpPQk0JRT9u",
        "outputId": "2bd960d1-f52e-4c89-ab30-c4e9bafe2936"
      },
      "execution_count": null,
      "outputs": [
        {
          "output_type": "display_data",
          "data": {
            "text/plain": [
              "<Figure size 640x480 with 1 Axes>"
            ],
            "image/png": "[encoded data removed]"
          },
          "metadata": {}
        }
      ]
    },
    {
      "cell_type": "code",
      "source": [],
      "metadata": {
        "id": "TZo-sNNRRyE6"
      },
      "execution_count": null,
      "outputs": []
    }
  ]
}