{
 "cells": [
  {
   "cell_type": "code",
   "execution_count": null,
   "metadata": {
    "id": "E6trkvkY1PU5"
   },
   "outputs": [],
   "source": [
    "\n",
    "! pip install transformers==4.20.0\n",
    "! pip install transformers --upgrade\n",
    "! pip install keras_nlp==0.3.0\n",
    "! pip install datasets\n",
    "! pip install nltk\n",
    "!pip install sentencepiece\n"
   ]
  },
  {
   "cell_type": "code",
   "execution_count": 1,
   "metadata": {
    "id": "f5Tvs5Ll1Tys"
   },
   "outputs": [
    {
     "name": "stderr",
     "output_type": "stream",
     "text": [
      "Found cached dataset xsum (C:/Users/dell/.cache/huggingface/datasets/xsum/default/1.2.0/082863bf4754ee058a5b6f6525d0cb2b18eadb62c7b370b095d1364050a52b71)\n"
     ]
    }
   ],
   "source": [
    "# Import required libraries\n",
    "import pandas as pd\n",
    "from transformers import T5Tokenizer, T5ForConditionalGeneration\n",
    "\n",
    "# Load the XSum dataset\n",
    "from datasets import load_dataset\n",
    "\n",
    "df = load_dataset(\"xsum\", split=\"train\")\n",
    "\n"
   ]
  },
  {
   "cell_type": "code",
   "execution_count": 3,
   "metadata": {
    "colab": {
     "base_uri": "https://localhost:8080/"
    },
    "id": "4ek7cQES14sX",
    "outputId": "321ca7b1-56ff-442f-a074-ba51818f8da9"
   },
   "outputs": [
    {
     "name": "stdout",
     "output_type": "stream",
     "text": [
      "Article:\n",
      " The full cost of damage in Newton Stewart, one of the areas worst affected, is still being assessed.\n",
      "Repair work is ongoing in Hawick and many roads in Peeblesshire remain badly affected by standing water.\n",
      "Trains on the west coast mainline face disruption due to damage at the Lamington Viaduct.\n",
      "Many businesses and householders were affected by flooding in Newton Stewart after the River Cree overflowed into the town.\n",
      "First Minister Nicola Sturgeon visited the area to inspect the damage.\n",
      "The waters breached a retaining wall, flooding many commercial properties on Victoria Street - the main shopping thoroughfare.\n",
      "Jeanette Tate, who owns the Cinnamon Cafe which was badly affected, said she could not fault the multi-agency response once the flood hit.\n",
      "However, she said more preventative work could have been carried out to ensure the retaining wall did not fail.\n",
      "\"It is difficult but I do think there is so much publicity for Dumfries and the Nith - and I totally appreciate that - but it is almost like we're neglected or forgotten,\" she said.\n",
      "\"That may not be true but it is perhaps my perspective over the last few days.\n",
      "\"Why were you not ready to help us a bit more when the warning and the alarm alerts had gone out?\"\n",
      "Meanwhile, a flood alert remains in place across the Borders because of the constant rain.\n",
      "Peebles was badly hit by problems, sparking calls to introduce more defences in the area.\n",
      "Scottish Borders Council has put a list on its website of the roads worst affected and drivers have been urged not to ignore closure signs.\n",
      "The Labour Party's deputy Scottish leader Alex Rowley was in Hawick on Monday to see the situation first hand.\n",
      "He said it was important to get the flood protection plan right but backed calls to speed up the process.\n",
      "\"I was quite taken aback by the amount of damage that has been done,\" he said.\n",
      "\"Obviously it is heart-breaking for people who have been forced out of their homes and the impact on businesses.\"\n",
      "He said it was important that \"immediate steps\" were taken to protect the areas most vulnerable and a clear timetable put in place for flood prevention plans.\n",
      "Have you been affected by flooding in Dumfries and Galloway or the Borders? Tell us about your experience of the situation and how it was handled. Email us on selkirk.news@bbc.co.uk or dumfries@bbc.co.uk.\n",
      "\n",
      "Summary:\n",
      " repairs are ongoing in Hawick and many roads in Peeblesshire remain badly affected by standing water. Trains on the west coast mainline face disruption due to damage at the Lamington Viaduct.\n"
     ]
    }
   ],
   "source": [
    "\n",
    "from transformers import AutoTokenizer\n",
    "\n",
    "tokenizer = AutoTokenizer.from_pretrained('t5-base')\n",
    "model = T5ForConditionalGeneration.from_pretrained('t5-base')\n",
    "def generate_summary(text, k):\n",
    "    # Encode the input text\n",
    "    inputs = tokenizer.encode_plus(text, return_tensors='pt', max_length=k, truncation=True)\n",
    "\n",
    "    # Generate the summary\n",
    "    summary_ids = model.generate(inputs['input_ids'], num_beams=5, max_length=200, early_stopping=True)\n",
    "    summary = tokenizer.decode(summary_ids[0], skip_special_tokens=True)\n",
    "\n",
    "    return summary\n",
    "\n",
    "\n",
    "\n",
    "# Generate a summary for the first article in the dataset\n",
    "article = df['document'][0]\n",
    "k = 200\n",
    "summary = generate_summary(article, k )\n",
    "\n",
    "print('Article:\\n', article)\n",
    "print('\\nSummary:\\n', summary)\n"
   ]
  },
  {
   "cell_type": "code",
   "execution_count": 4,
   "metadata": {
    "colab": {
     "base_uri": "https://localhost:8080/"
    },
    "id": "eTeg7V5F2xiw",
    "outputId": "1260dc26-4e6c-412f-ae56-d8e9d7413f60"
   },
   "outputs": [
    {
     "name": "stdout",
     "output_type": "stream",
     "text": [
      "Article:\n",
      " Administrators confirmed the redundancies affecting 38 staff at Galashiels-based Murray and Burrell.\n",
      "The business, established in 1928, went into administration last week citing \"adverse trading conditions\".\n",
      "There are hopes some of the workers affected could find posts at another building firm in nearby Melrose which currently requires staff.\n",
      "Thomson Cooper partner Richard Gardiner was appointed as administrator at Murray and Burrell on Monday.\n",
      "A statement confirmed: \"Directors explored all options in an effort to preserve trading and jobs.\n",
      "\"Regrettably, 38 jobs were lost as there is no prospect of continuing to trade.\"\n",
      "South of Scotland MSP Rachael Hamilton described it as a \"sad day for the Borders\".\n",
      "However, some of the workers laid off could find employment with a Melrose-based company.\n",
      "JS Crawford has said that, with several housing projects on its books, it needs staff.\n",
      "\n",
      "Summary:\n",
      " redundancies affect 38 staff at Galashiels-based Murray and Burrell. the business, established in 1928, went into administration last week citing \"adverse trading conditions\" there are hopes some of the workers affected could find posts at another building firm.\n"
     ]
    }
   ],
   "source": [
    "# Generate a summary for the random article in the dataset\n",
    "article = df['document'][12]\n",
    "summary = generate_summary(article, k)\n",
    "\n",
    "print('Article:\\n', article)\n",
    "print('\\nSummary:\\n', summary)"
   ]
  },
  {
   "cell_type": "code",
   "execution_count": 13,
   "metadata": {
    "colab": {
     "base_uri": "https://localhost:8080/"
    },
    "id": "kP0_Df-Z4ibV",
    "outputId": "49b7b25f-849e-459c-c54a-2baeed2efddb"
   },
   "outputs": [
    {
     "name": "stdout",
     "output_type": "stream",
     "text": [
      "\n",
      "\u001b[1mOriginal-Text:\u001b[0m\n",
      " The announcement ends months of uncertainty for Cornish Language Partnership staff whose contracts had been due to end.\n",
      "Local government minister Andrew Stunnell said the three-year funding package for the service would help make sure the language survived.\n",
      "But he warned that long term funding should come from Cornwall.\n",
      "He said it was \"important to make sure the Cornish were given the opportunity to put down sound foundations.\"\n",
      "\"In the longer term support for the Cornish language is going to be something which is going to have to be based in Cornwall and will not come from London,\" he added.\n",
      "The Cornish Language Partnership's, Jennifer Lowe, said: \"We can now plan for the future thanks to the funding.\"\n",
      "The United Nations recently upgraded the status of the Cornish language from \"extinct\" to \"critically endangered\".\n",
      "It is thought fewer than 500 people worldwide are fluent in the language\u001b[43m\u001b[1mthe announcement ends months of uncertainty for staff whose contracts had been due to end. local government minister Andrew Stunnell said the funding package would help make sure the language survived. but he warned that long term funding should come from Cornwall.\u001b[0m warned that long term funding should come from Cornwall.\n",
      "He said it was \"important to make sure the Cornish were given the opportunity to put down sound foundations.\"\n",
      "\"In the longer term support for the Cornish language is going to be something which is going to have to be based in Cornwall and will not come from London,\" he added.\n",
      "The Cornish Language Partnership's, Jennifer Lowe, said: \"We can now plan for the future thanks to the funding.\"\n",
      "The United Nations recently upgraded the status of the Cornish language from \"extinct\" to \"critically endangered\".\n",
      "It is thought fewer than 500 people worldwide are fluent in the language.\n",
      "\n",
      "\u001b[1mSummary:\u001b[0m\n",
      " the announcement ends months of uncertainty for staff whose contracts had been due to end. local government minister Andrew Stunnell said the funding package would help make sure the language survived. but he warned that long term funding should come from Cornwall.\n"
     ]
    }
   ],
   "source": [
    "def visualize_summary(article, summary, color='yellow', alignment='center'):\n",
    "    # Find the starting and ending indices of the summary in the article\n",
    "    start_index = article.find(summary)\n",
    "    end_index = start_index + len(summary)\n",
    "\n",
    "    # Generate the highlighted article using ANSI escape codes\n",
    "    if color == 'yellow':\n",
    "        color_code = '\\033[43m'  # ANSI escape code for yellow background\n",
    "    else:\n",
    "        color_code = '\\033[0m'  # No color\n",
    "    highlighted_article = article[:start_index] + color_code + '\\033[1m' + summary + '\\033[0m' + article[end_index:]\n",
    "\n",
    "    # Print the highlighted article with alignment\n",
    "    if alignment == 'left':\n",
    "        print('\\n\\033[1mOriginal-Text:\\033[0m\\n',highlighted_article)\n",
    "    elif alignment == 'center':\n",
    "        print('\\n\\033[1mOriginal-Text:\\033[0m\\n',highlighted_article.center(80))\n",
    "    elif alignment == 'right':\n",
    "        print('\\n\\033[1mOriginal-Text:\\033[0m\\n',highlighted_article.rjust(80))\n",
    "    else:\n",
    "        print('\\n\\033[1mOriginal-Text:\\033[0m\\n', highlighted_article)\n",
    "\n",
    "# Example usage\n",
    "article = df['document'][17]\n",
    "summary = generate_summary(article, k=200)\n",
    "visualize_summary(article, summary, color='yellow', alignment='center')\n",
    "print('\\n\\033[1mSummary:\\033[0m\\n', summary)"
   ]
  },
  {
   "cell_type": "code",
   "execution_count": 15,
   "metadata": {
    "id": "RDX8FWdl7SyB"
   },
   "outputs": [
    {
     "name": "stdout",
     "output_type": "stream",
     "text": [
      "[{'rouge-1': {'r': 0.37, 'p': 0.9487179487179487, 'f': 0.5323740966823663}, 'rouge-2': {'r': 0.2518518518518518, 'p': 0.8292682926829268, 'f': 0.3863636327899019}, 'rouge-l': {'r': 0.37, 'p': 0.9487179487179487, 'f': 0.5323740966823663}}]\n"
     ]
    }
   ],
   "source": [
    "from rouge import Rouge\n",
    "\n",
    "rouge = Rouge()\n",
    "\n",
    "scores = rouge.get_scores(summary, article)\n",
    "print(scores)\n"
   ]
  },
  {
   "cell_type": "code",
   "execution_count": null,
   "metadata": {
    "id": "Hm8DOIOJJO5O"
   },
   "outputs": [],
   "source": []
  },
  {
   "cell_type": "code",
   "execution_count": null,
   "metadata": {
    "id": "-nUOKDK1JO8O"
   },
   "outputs": [],
   "source": []
  },
  {
   "cell_type": "code",
   "execution_count": null,
   "metadata": {
    "id": "yHARNmxtvnBW"
   },
   "outputs": [],
   "source": []
  }
 ],
 "metadata": {
  "colab": {
   "provenance": []
  },
  "kernelspec": {
   "display_name": "Python 3",
   "language": "python",
   "name": "python3"
  },
  "language_info": {
   "codemirror_mode": {
    "name": "ipython",
    "version": 3
   },
   "file_extension": ".py",
   "mimetype": "text/x-python",
   "name": "python",
   "nbconvert_exporter": "python",
   "pygments_lexer": "ipython3",
   "version": "3.8.5"
  }
 },
 "nbformat": 4,
 "nbformat_minor": 1
}
